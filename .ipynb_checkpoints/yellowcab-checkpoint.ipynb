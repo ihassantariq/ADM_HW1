{
 "cells": [
  {
   "cell_type": "code",
   "execution_count": 53,
   "metadata": {},
   "outputs": [],
   "source": [
    "import pandas as pd"
   ]
  },
  {
   "cell_type": "code",
   "execution_count": 54,
   "metadata": {},
   "outputs": [],
   "source": [
    "import numpy as np"
   ]
  },
  {
   "cell_type": "code",
   "execution_count": 118,
   "metadata": {},
   "outputs": [
    {
     "data": {
      "text/html": [
       "<div>\n",
       "<style scoped>\n",
       "    .dataframe tbody tr th:only-of-type {\n",
       "        vertical-align: middle;\n",
       "    }\n",
       "\n",
       "    .dataframe tbody tr th {\n",
       "        vertical-align: top;\n",
       "    }\n",
       "\n",
       "    .dataframe thead th {\n",
       "        text-align: right;\n",
       "    }\n",
       "</style>\n",
       "<table border=\"1\" class=\"dataframe\">\n",
       "  <thead>\n",
       "    <tr style=\"text-align: right;\">\n",
       "      <th></th>\n",
       "      <th>tpep_pickup_datetime</th>\n",
       "      <th>tpep_dropoff_datetime</th>\n",
       "      <th>trip_distance</th>\n",
       "      <th>PULocationID</th>\n",
       "      <th>fare_amount</th>\n",
       "    </tr>\n",
       "  </thead>\n",
       "  <tbody>\n",
       "    <tr>\n",
       "      <th>0</th>\n",
       "      <td>2018-01-01 00:21:05</td>\n",
       "      <td>2018-01-01 00:24:23</td>\n",
       "      <td>0.5</td>\n",
       "      <td>41</td>\n",
       "      <td>4.5</td>\n",
       "    </tr>\n",
       "    <tr>\n",
       "      <th>1</th>\n",
       "      <td>2018-01-01 00:44:55</td>\n",
       "      <td>2018-01-01 01:03:05</td>\n",
       "      <td>2.7</td>\n",
       "      <td>239</td>\n",
       "      <td>14.0</td>\n",
       "    </tr>\n",
       "    <tr>\n",
       "      <th>2</th>\n",
       "      <td>2018-01-01 00:08:26</td>\n",
       "      <td>2018-01-01 00:14:21</td>\n",
       "      <td>0.8</td>\n",
       "      <td>262</td>\n",
       "      <td>6.0</td>\n",
       "    </tr>\n",
       "    <tr>\n",
       "      <th>3</th>\n",
       "      <td>2018-01-01 00:20:22</td>\n",
       "      <td>2018-01-01 00:52:51</td>\n",
       "      <td>10.2</td>\n",
       "      <td>140</td>\n",
       "      <td>33.5</td>\n",
       "    </tr>\n",
       "    <tr>\n",
       "      <th>4</th>\n",
       "      <td>2018-01-01 00:09:18</td>\n",
       "      <td>2018-01-01 00:27:06</td>\n",
       "      <td>2.5</td>\n",
       "      <td>246</td>\n",
       "      <td>12.5</td>\n",
       "    </tr>\n",
       "  </tbody>\n",
       "</table>\n",
       "</div>"
      ],
      "text/plain": [
       "  tpep_pickup_datetime tpep_dropoff_datetime  trip_distance  PULocationID  \\\n",
       "0  2018-01-01 00:21:05   2018-01-01 00:24:23            0.5            41   \n",
       "1  2018-01-01 00:44:55   2018-01-01 01:03:05            2.7           239   \n",
       "2  2018-01-01 00:08:26   2018-01-01 00:14:21            0.8           262   \n",
       "3  2018-01-01 00:20:22   2018-01-01 00:52:51           10.2           140   \n",
       "4  2018-01-01 00:09:18   2018-01-01 00:27:06            2.5           246   \n",
       "\n",
       "   fare_amount  \n",
       "0          4.5  \n",
       "1         14.0  \n",
       "2          6.0  \n",
       "3         33.5  \n",
       "4         12.5  "
      ]
     },
     "execution_count": 118,
     "metadata": {},
     "output_type": "execute_result"
    }
   ],
   "source": [
    "data_frame1 = pd.read_csv(\"yellow_tripdata_2018-01.csv\", nrows = 1000,usecols=['tpep_pickup_datetime', 'tpep_dropoff_datetime','trip_distance','PULocationID','fare_amount'])\n",
    "data_frame1.head()"
   ]
  },
  {
   "cell_type": "code",
   "execution_count": 56,
   "metadata": {},
   "outputs": [],
   "source": [
    "t1 = pd.to_datetime(data_frame1['tpep_pickup_datetime'])\n",
    "t2 = pd.to_datetime(data_frame1['tpep_dropoff_datetime'])"
   ]
  },
  {
   "cell_type": "code",
   "execution_count": 123,
   "metadata": {},
   "outputs": [
    {
     "data": {
      "text/plain": [
       "0       3.0\n",
       "1      18.0\n",
       "2       5.0\n",
       "3      32.0\n",
       "4      17.0\n",
       "5       3.0\n",
       "6      10.0\n",
       "7       2.0\n",
       "8       4.0\n",
       "9       5.0\n",
       "10      5.0\n",
       "11     24.0\n",
       "12      4.0\n",
       "13      9.0\n",
       "14     15.0\n",
       "15     17.0\n",
       "16     42.0\n",
       "17      4.0\n",
       "18     36.0\n",
       "19      5.0\n",
       "20     19.0\n",
       "21     12.0\n",
       "22     21.0\n",
       "23     26.0\n",
       "24     12.0\n",
       "25      4.0\n",
       "26     22.0\n",
       "27      2.0\n",
       "28      7.0\n",
       "29      6.0\n",
       "       ... \n",
       "970     4.0\n",
       "971    11.0\n",
       "972    17.0\n",
       "973    30.0\n",
       "974    20.0\n",
       "975    47.0\n",
       "976     2.0\n",
       "977    10.0\n",
       "978    11.0\n",
       "979    15.0\n",
       "980     6.0\n",
       "981     3.0\n",
       "982     5.0\n",
       "983    14.0\n",
       "984    32.0\n",
       "985    15.0\n",
       "986     4.0\n",
       "987    11.0\n",
       "988    33.0\n",
       "989     9.0\n",
       "990     4.0\n",
       "991     5.0\n",
       "992    10.0\n",
       "993    14.0\n",
       "994    30.0\n",
       "995    10.0\n",
       "996    20.0\n",
       "997     3.0\n",
       "998    19.0\n",
       "999    14.0\n",
       "Length: 1000, dtype: float64"
      ]
     },
     "execution_count": 123,
     "metadata": {},
     "output_type": "execute_result"
    }
   ],
   "source": [
    "time_diff = t2-t1\n",
    "time_diff_float = time_diff.astype('timedelta64[m]')\n",
    "time_diff_float\n"
   ]
  },
  {
   "cell_type": "code",
   "execution_count": 61,
   "metadata": {},
   "outputs": [
    {
     "data": {
      "text/plain": [
       "Timedelta('0 days 00:18:23.236000')"
      ]
     },
     "execution_count": 61,
     "metadata": {},
     "output_type": "execute_result"
    }
   ],
   "source": [
    "time_diff.mean()  #considerando mille righe un viaggio dura in media 18 minuti e 23 secondi"
   ]
  },
  {
   "cell_type": "code",
   "execution_count": 62,
   "metadata": {},
   "outputs": [],
   "source": [
    "df1['Date_pickup'] = pd.to_datetime(df1['tpep_pickup_datetime']).dt.date\n",
    "df1['Time_pickup'] = pd.to_datetime(df1['tpep_pickup_datetime']).dt.time\n",
    "df1['Date_dropoff'] = pd.to_datetime(df1['tpep_dropoff_datetime']).dt.date\n",
    "df1['Time_dropoff'] = pd.to_datetime(df1['tpep_dropoff_datetime']).dt.time"
   ]
  },
  {
   "cell_type": "code",
   "execution_count": 63,
   "metadata": {},
   "outputs": [],
   "source": [
    "data_frame_borough = pd.read_csv(\"name_borought.csv\", usecols = ['Borough','LocationID'])"
   ]
  },
  {
   "cell_type": "code",
   "execution_count": 64,
   "metadata": {},
   "outputs": [
    {
     "data": {
      "text/html": [
       "<div>\n",
       "<style scoped>\n",
       "    .dataframe tbody tr th:only-of-type {\n",
       "        vertical-align: middle;\n",
       "    }\n",
       "\n",
       "    .dataframe tbody tr th {\n",
       "        vertical-align: top;\n",
       "    }\n",
       "\n",
       "    .dataframe thead th {\n",
       "        text-align: right;\n",
       "    }\n",
       "</style>\n",
       "<table border=\"1\" class=\"dataframe\">\n",
       "  <thead>\n",
       "    <tr style=\"text-align: right;\">\n",
       "      <th></th>\n",
       "      <th>LocationID</th>\n",
       "      <th>Borough</th>\n",
       "    </tr>\n",
       "  </thead>\n",
       "  <tbody>\n",
       "    <tr>\n",
       "      <th>260</th>\n",
       "      <td>261</td>\n",
       "      <td>Manhattan</td>\n",
       "    </tr>\n",
       "    <tr>\n",
       "      <th>261</th>\n",
       "      <td>262</td>\n",
       "      <td>Manhattan</td>\n",
       "    </tr>\n",
       "    <tr>\n",
       "      <th>262</th>\n",
       "      <td>263</td>\n",
       "      <td>Manhattan</td>\n",
       "    </tr>\n",
       "    <tr>\n",
       "      <th>263</th>\n",
       "      <td>264</td>\n",
       "      <td>Unknown</td>\n",
       "    </tr>\n",
       "    <tr>\n",
       "      <th>264</th>\n",
       "      <td>265</td>\n",
       "      <td>Unknown</td>\n",
       "    </tr>\n",
       "  </tbody>\n",
       "</table>\n",
       "</div>"
      ],
      "text/plain": [
       "     LocationID    Borough\n",
       "260         261  Manhattan\n",
       "261         262  Manhattan\n",
       "262         263  Manhattan\n",
       "263         264    Unknown\n",
       "264         265    Unknown"
      ]
     },
     "execution_count": 64,
     "metadata": {},
     "output_type": "execute_result"
    }
   ],
   "source": [
    "data_frame_borough.tail()"
   ]
  },
  {
   "cell_type": "code",
   "execution_count": 65,
   "metadata": {},
   "outputs": [],
   "source": [
    "datafm2 = df1.join(data_frame_borough, lsuffix='_df1', rsuffix='_data_frame_borough')\n"
   ]
  },
  {
   "cell_type": "code",
   "execution_count": 66,
   "metadata": {},
   "outputs": [],
   "source": [
    "datafm2['time_diff_float'] = time_diff_float\n"
   ]
  },
  {
   "cell_type": "code",
   "execution_count": 67,
   "metadata": {},
   "outputs": [
    {
     "data": {
      "text/plain": [
       "tpep_pickup_datetime      object\n",
       "tpep_dropoff_datetime     object\n",
       "trip_distance            float64\n",
       "PULocationID               int64\n",
       "fare_amount              float64\n",
       "Date_pickup               object\n",
       "Time_pickup               object\n",
       "Date_dropoff              object\n",
       "Time_dropoff              object\n",
       "LocationID               float64\n",
       "Borough                   object\n",
       "time_diff_float          float64\n",
       "dtype: object"
      ]
     },
     "execution_count": 67,
     "metadata": {},
     "output_type": "execute_result"
    }
   ],
   "source": [
    "datafm2.dtypes"
   ]
  },
  {
   "cell_type": "code",
   "execution_count": 68,
   "metadata": {},
   "outputs": [],
   "source": [
    "datafm2.dropna(subset=['time_diff_float'], how='all', inplace = True)"
   ]
  },
  {
   "cell_type": "code",
   "execution_count": 69,
   "metadata": {},
   "outputs": [],
   "source": [
    "datafm2.dropna(subset=['Borough'], how='all', inplace = True)"
   ]
  },
  {
   "cell_type": "code",
   "execution_count": 70,
   "metadata": {},
   "outputs": [],
   "source": [
    "datafm2.dropna(subset=['LocationID'], how='all', inplace = True)"
   ]
  },
  {
   "cell_type": "code",
   "execution_count": 71,
   "metadata": {},
   "outputs": [],
   "source": [
    "datafm2.dropna(subset=['trip_distance'], how='all', inplace = True)"
   ]
  },
  {
   "cell_type": "code",
   "execution_count": 72,
   "metadata": {},
   "outputs": [],
   "source": [
    "datafm2.dropna(subset=['fare_amount'], how='all', inplace = True)"
   ]
  },
  {
   "cell_type": "code",
   "execution_count": 73,
   "metadata": {},
   "outputs": [],
   "source": [
    "grouped = datafm2.groupby('Borough')"
   ]
  },
  {
   "cell_type": "code",
   "execution_count": 130,
   "metadata": {},
   "outputs": [
    {
     "name": "stdout",
     "output_type": "stream",
     "text": [
      "Bronx\n",
      "    tpep_pickup_datetime tpep_dropoff_datetime  trip_distance  PULocationID  \\\n",
      "2    2018-01-01 00:08:26   2018-01-01 00:14:21           0.80           262   \n",
      "17   2018-01-01 00:21:45   2018-01-01 00:25:58           0.60           163   \n",
      "19   2018-01-01 00:15:42   2018-01-01 00:21:38           1.22           236   \n",
      "30   2018-01-01 00:49:20   2018-01-01 00:57:58           1.20           236   \n",
      "31   2018-01-01 00:13:37   2018-01-01 00:23:52           2.70           142   \n",
      "45   2018-01-01 00:42:46   2018-01-01 00:44:41           0.10           164   \n",
      "46   2018-01-01 00:48:05   2018-01-01 00:55:15           0.20           164   \n",
      "50   2018-01-01 00:17:28   2018-01-01 00:37:38           2.80           142   \n",
      "57   2018-01-01 00:51:26   2018-01-01 01:00:53           1.76           144   \n",
      "58   2018-01-01 01:02:39   2018-01-01 01:04:02           0.09            87   \n",
      "59   2018-01-01 01:02:39   2018-01-01 01:04:02           0.09            87   \n",
      "68   2018-01-01 00:17:15   2018-01-01 00:37:37           4.40           107   \n",
      "77   2018-01-01 00:40:25   2018-01-01 00:47:22           2.10           236   \n",
      "80   2018-01-01 00:08:20   2018-01-01 00:14:36           1.60           263   \n",
      "93   2018-01-01 00:29:24   2018-01-01 00:48:55           4.20            65   \n",
      "118  2018-01-01 00:36:24   2018-01-01 01:02:06           2.80           142   \n",
      "125  2018-01-01 00:53:46   2018-01-01 01:18:43           1.77           161   \n",
      "135  2018-01-01 00:35:15   2018-01-01 01:10:21           5.50           144   \n",
      "146  2018-01-01 00:59:57   2018-01-01 01:07:59           1.70            50   \n",
      "158  2018-01-01 00:08:11   2018-01-01 00:40:09           4.77           114   \n",
      "166  2018-01-01 00:44:05   2018-01-01 01:28:48          12.01           249   \n",
      "167  2018-01-01 00:26:54   2018-01-01 00:34:22           0.90           137   \n",
      "168  2018-01-01 00:20:32   2018-01-01 00:25:04           0.40            43   \n",
      "173  2018-01-01 00:58:09   2018-01-01 01:35:58          24.00           132   \n",
      "181  2018-01-01 00:08:32   2018-01-01 00:24:52           4.40           264   \n",
      "182  2018-01-01 00:29:13   2018-01-01 00:52:32           3.80           264   \n",
      "183  2018-01-01 00:57:25   2018-01-01 01:19:30           2.70           264   \n",
      "184  2018-01-01 00:47:26   2018-01-01 01:02:43           1.93           161   \n",
      "198  2018-01-01 00:48:13   2018-01-01 00:58:06           0.50           163   \n",
      "199  2018-01-01 00:27:29   2018-01-01 00:40:56           2.74           239   \n",
      "207  2018-01-01 00:59:09   2018-01-01 01:16:32           4.64            52   \n",
      "211  2018-01-01 00:46:32   2018-01-01 00:57:52           1.90           239   \n",
      "212  2018-01-01 00:06:56   2018-01-01 00:12:08           1.60           263   \n",
      "219  2018-01-01 00:10:35   2018-01-01 00:44:11           1.88           114   \n",
      "234  2018-01-01 00:59:32   2018-01-01 01:13:53           1.50           234   \n",
      "239  2018-01-01 00:24:51   2018-01-01 00:32:56           1.46           113   \n",
      "240  2018-01-01 00:39:25   2018-01-01 00:56:41           2.23           211   \n",
      "241  2018-01-01 00:32:59   2018-01-01 00:53:27           5.96            50   \n",
      "246  2018-01-01 00:18:13   2018-01-01 00:44:45           7.65           211   \n",
      "247  2018-01-01 00:53:55   2018-01-01 00:57:38           0.80           237   \n",
      "249  2018-01-01 00:20:47   2018-01-01 00:28:29           0.90             4   \n",
      "253  2018-01-01 00:27:04   2018-01-01 00:47:39           2.97            68   \n",
      "258  2018-01-01 00:43:32   2018-01-01 00:47:20           0.55           161   \n",
      "\n",
      "     fare_amount Date_pickup Time_pickup Date_dropoff Time_dropoff  \\\n",
      "2            6.0  2018-01-01    00:08:26   2018-01-01     00:14:21   \n",
      "17           4.5  2018-01-01    00:21:45   2018-01-01     00:25:58   \n",
      "19           6.0  2018-01-01    00:15:42   2018-01-01     00:21:38   \n",
      "30           7.5  2018-01-01    00:49:20   2018-01-01     00:57:58   \n",
      "31          10.5  2018-01-01    00:13:37   2018-01-01     00:23:52   \n",
      "45           3.0  2018-01-01    00:42:46   2018-01-01     00:44:41   \n",
      "46           6.0  2018-01-01    00:48:05   2018-01-01     00:55:15   \n",
      "50          14.5  2018-01-01    00:17:28   2018-01-01     00:37:38   \n",
      "57           8.5  2018-01-01    00:51:26   2018-01-01     01:00:53   \n",
      "58          -3.0  2018-01-01    01:02:39   2018-01-01     01:04:02   \n",
      "59           3.0  2018-01-01    01:02:39   2018-01-01     01:04:02   \n",
      "68          17.0  2018-01-01    00:17:15   2018-01-01     00:37:37   \n",
      "77           8.5  2018-01-01    00:40:25   2018-01-01     00:47:22   \n",
      "80           7.0  2018-01-01    00:08:20   2018-01-01     00:14:36   \n",
      "93          16.5  2018-01-01    00:29:24   2018-01-01     00:48:55   \n",
      "118         17.0  2018-01-01    00:36:24   2018-01-01     01:02:06   \n",
      "125         15.0  2018-01-01    00:53:46   2018-01-01     01:18:43   \n",
      "135         24.0  2018-01-01    00:35:15   2018-01-01     01:10:21   \n",
      "146          7.5  2018-01-01    00:59:57   2018-01-01     01:07:59   \n",
      "158         22.0  2018-01-01    00:08:11   2018-01-01     00:40:09   \n",
      "166         41.0  2018-01-01    00:44:05   2018-01-01     01:28:48   \n",
      "167          6.5  2018-01-01    00:26:54   2018-01-01     00:34:22   \n",
      "168          5.0  2018-01-01    00:20:32   2018-01-01     00:25:04   \n",
      "173         65.5  2018-01-01    00:58:09   2018-01-01     01:35:58   \n",
      "181         16.0  2018-01-01    00:08:32   2018-01-01     00:24:52   \n",
      "182         17.5  2018-01-01    00:29:13   2018-01-01     00:52:32   \n",
      "183         15.5  2018-01-01    00:57:25   2018-01-01     01:19:30   \n",
      "184         11.5  2018-01-01    00:47:26   2018-01-01     01:02:43   \n",
      "198          7.5  2018-01-01    00:48:13   2018-01-01     00:58:06   \n",
      "199         12.0  2018-01-01    00:27:29   2018-01-01     00:40:56   \n",
      "207         17.0  2018-01-01    00:59:09   2018-01-01     01:16:32   \n",
      "211          9.5  2018-01-01    00:46:32   2018-01-01     00:57:52   \n",
      "212          6.5  2018-01-01    00:06:56   2018-01-01     00:12:08   \n",
      "219         19.5  2018-01-01    00:10:35   2018-01-01     00:44:11   \n",
      "234         10.0  2018-01-01    00:59:32   2018-01-01     01:13:53   \n",
      "239          7.5  2018-01-01    00:24:51   2018-01-01     00:32:56   \n",
      "240         12.5  2018-01-01    00:39:25   2018-01-01     00:56:41   \n",
      "241         20.0  2018-01-01    00:32:59   2018-01-01     00:53:27   \n",
      "246         27.0  2018-01-01    00:18:13   2018-01-01     00:44:45   \n",
      "247          5.0  2018-01-01    00:53:55   2018-01-01     00:57:38   \n",
      "249          6.5  2018-01-01    00:20:47   2018-01-01     00:28:29   \n",
      "253         14.5  2018-01-01    00:27:04   2018-01-01     00:47:39   \n",
      "258          4.5  2018-01-01    00:43:32   2018-01-01     00:47:20   \n",
      "\n",
      "     LocationID Borough  time_diff_float  \n",
      "2           3.0   Bronx         0.004109  \n",
      "17         18.0   Bronx         0.002928  \n",
      "19         20.0   Bronx         0.004120  \n",
      "30         31.0   Bronx         0.005995  \n",
      "31         32.0   Bronx         0.007118  \n",
      "45         46.0   Bronx         0.001331  \n",
      "46         47.0   Bronx         0.004977  \n",
      "50         51.0   Bronx         0.014005  \n",
      "57         58.0   Bronx         0.006562  \n",
      "58         59.0   Bronx         0.000961  \n",
      "59         60.0   Bronx         0.000961  \n",
      "68         69.0   Bronx         0.014144  \n",
      "77         78.0   Bronx         0.004826  \n",
      "80         81.0   Bronx         0.004352  \n",
      "93         94.0   Bronx         0.013553  \n",
      "118       119.0   Bronx         0.017847  \n",
      "125       126.0   Bronx         0.017326  \n",
      "135       136.0   Bronx         0.024375  \n",
      "146       147.0   Bronx         0.005579  \n",
      "158       159.0   Bronx         0.022199  \n",
      "166       167.0   Bronx         0.031053  \n",
      "167       168.0   Bronx         0.005185  \n",
      "168       169.0   Bronx         0.003148  \n",
      "173       174.0   Bronx         0.026262  \n",
      "181       182.0   Bronx         0.011343  \n",
      "182       183.0   Bronx         0.016192  \n",
      "183       184.0   Bronx         0.015336  \n",
      "184       185.0   Bronx         0.010613  \n",
      "198       199.0   Bronx         0.006863  \n",
      "199       200.0   Bronx         0.009340  \n",
      "207       208.0   Bronx         0.012072  \n",
      "211       212.0   Bronx         0.007870  \n",
      "212       213.0   Bronx         0.003611  \n",
      "219       220.0   Bronx         0.023333  \n",
      "234       235.0   Bronx         0.009965  \n",
      "239       240.0   Bronx         0.005613  \n",
      "240       241.0   Bronx         0.011991  \n",
      "241       242.0   Bronx         0.014213  \n",
      "246       247.0   Bronx         0.018426  \n",
      "247       248.0   Bronx         0.002581  \n",
      "249       250.0   Bronx         0.005347  \n",
      "253       254.0   Bronx         0.014294  \n",
      "258       259.0   Bronx         0.002639  \n"
     ]
    }
   ],
   "source": [
    "for name,group in datafm2.groupby(['Borough']):\n",
    "    print (name)\n",
    "    print (group)"
   ]
  },
  {
   "cell_type": "code",
   "execution_count": 75,
   "metadata": {},
   "outputs": [
    {
     "data": {
      "text/html": [
       "<div>\n",
       "<style scoped>\n",
       "    .dataframe tbody tr th:only-of-type {\n",
       "        vertical-align: middle;\n",
       "    }\n",
       "\n",
       "    .dataframe tbody tr th {\n",
       "        vertical-align: top;\n",
       "    }\n",
       "\n",
       "    .dataframe thead th {\n",
       "        text-align: right;\n",
       "    }\n",
       "</style>\n",
       "<table border=\"1\" class=\"dataframe\">\n",
       "  <thead>\n",
       "    <tr style=\"text-align: right;\">\n",
       "      <th></th>\n",
       "      <th>trip_distance</th>\n",
       "      <th>PULocationID</th>\n",
       "      <th>fare_amount</th>\n",
       "      <th>LocationID</th>\n",
       "      <th>time_diff_float</th>\n",
       "    </tr>\n",
       "  </thead>\n",
       "  <tbody>\n",
       "    <tr>\n",
       "      <th>count</th>\n",
       "      <td>69.000000</td>\n",
       "      <td>69.000000</td>\n",
       "      <td>69.000000</td>\n",
       "      <td>69.000000</td>\n",
       "      <td>69.000000</td>\n",
       "    </tr>\n",
       "    <tr>\n",
       "      <th>mean</th>\n",
       "      <td>3.484348</td>\n",
       "      <td>161.811594</td>\n",
       "      <td>15.775362</td>\n",
       "      <td>147.434783</td>\n",
       "      <td>0.010900</td>\n",
       "    </tr>\n",
       "    <tr>\n",
       "      <th>std</th>\n",
       "      <td>4.256994</td>\n",
       "      <td>65.334946</td>\n",
       "      <td>15.965850</td>\n",
       "      <td>72.530821</td>\n",
       "      <td>0.007222</td>\n",
       "    </tr>\n",
       "    <tr>\n",
       "      <th>min</th>\n",
       "      <td>0.170000</td>\n",
       "      <td>13.000000</td>\n",
       "      <td>2.500000</td>\n",
       "      <td>4.000000</td>\n",
       "      <td>0.000382</td>\n",
       "    </tr>\n",
       "    <tr>\n",
       "      <th>25%</th>\n",
       "      <td>1.170000</td>\n",
       "      <td>132.000000</td>\n",
       "      <td>7.500000</td>\n",
       "      <td>100.000000</td>\n",
       "      <td>0.005289</td>\n",
       "    </tr>\n",
       "    <tr>\n",
       "      <th>50%</th>\n",
       "      <td>2.160000</td>\n",
       "      <td>145.000000</td>\n",
       "      <td>11.500000</td>\n",
       "      <td>144.000000</td>\n",
       "      <td>0.008981</td>\n",
       "    </tr>\n",
       "    <tr>\n",
       "      <th>75%</th>\n",
       "      <td>3.520000</td>\n",
       "      <td>233.000000</td>\n",
       "      <td>16.500000</td>\n",
       "      <td>224.000000</td>\n",
       "      <td>0.015729</td>\n",
       "    </tr>\n",
       "    <tr>\n",
       "      <th>max</th>\n",
       "      <td>22.070000</td>\n",
       "      <td>264.000000</td>\n",
       "      <td>113.000000</td>\n",
       "      <td>263.000000</td>\n",
       "      <td>0.035590</td>\n",
       "    </tr>\n",
       "  </tbody>\n",
       "</table>\n",
       "</div>"
      ],
      "text/plain": [
       "       trip_distance  PULocationID  fare_amount  LocationID  time_diff_float\n",
       "count      69.000000     69.000000    69.000000   69.000000        69.000000\n",
       "mean        3.484348    161.811594    15.775362  147.434783         0.010900\n",
       "std         4.256994     65.334946    15.965850   72.530821         0.007222\n",
       "min         0.170000     13.000000     2.500000    4.000000         0.000382\n",
       "25%         1.170000    132.000000     7.500000  100.000000         0.005289\n",
       "50%         2.160000    145.000000    11.500000  144.000000         0.008981\n",
       "75%         3.520000    233.000000    16.500000  224.000000         0.015729\n",
       "max        22.070000    264.000000   113.000000  263.000000         0.035590"
      ]
     },
     "execution_count": 75,
     "metadata": {},
     "output_type": "execute_result"
    }
   ],
   "source": [
    "grouped.get_group('Manhattan').describe()\n",
    "##se consideriamo il borough manhattan(in 1000 righe) un viaggio di 3.39miles(media) dura in media\n",
    "#15 minuti e 42 secondi < della durata media di un viaggio se si considerano tutti i borough(new york)"
   ]
  },
  {
   "cell_type": "code",
   "execution_count": 76,
   "metadata": {},
   "outputs": [
    {
     "data": {
      "text/html": [
       "<div>\n",
       "<style scoped>\n",
       "    .dataframe tbody tr th:only-of-type {\n",
       "        vertical-align: middle;\n",
       "    }\n",
       "\n",
       "    .dataframe tbody tr th {\n",
       "        vertical-align: top;\n",
       "    }\n",
       "\n",
       "    .dataframe thead tr th {\n",
       "        text-align: left;\n",
       "    }\n",
       "\n",
       "    .dataframe thead tr:last-of-type th {\n",
       "        text-align: right;\n",
       "    }\n",
       "</style>\n",
       "<table border=\"1\" class=\"dataframe\">\n",
       "  <thead>\n",
       "    <tr>\n",
       "      <th></th>\n",
       "      <th colspan=\"8\" halign=\"left\">LocationID</th>\n",
       "      <th colspan=\"2\" halign=\"left\">PULocationID</th>\n",
       "      <th>...</th>\n",
       "      <th colspan=\"2\" halign=\"left\">time_diff_float</th>\n",
       "      <th colspan=\"8\" halign=\"left\">trip_distance</th>\n",
       "    </tr>\n",
       "    <tr>\n",
       "      <th></th>\n",
       "      <th>count</th>\n",
       "      <th>mean</th>\n",
       "      <th>std</th>\n",
       "      <th>min</th>\n",
       "      <th>25%</th>\n",
       "      <th>50%</th>\n",
       "      <th>75%</th>\n",
       "      <th>max</th>\n",
       "      <th>count</th>\n",
       "      <th>mean</th>\n",
       "      <th>...</th>\n",
       "      <th>75%</th>\n",
       "      <th>max</th>\n",
       "      <th>count</th>\n",
       "      <th>mean</th>\n",
       "      <th>std</th>\n",
       "      <th>min</th>\n",
       "      <th>25%</th>\n",
       "      <th>50%</th>\n",
       "      <th>75%</th>\n",
       "      <th>max</th>\n",
       "    </tr>\n",
       "    <tr>\n",
       "      <th>Borough</th>\n",
       "      <th></th>\n",
       "      <th></th>\n",
       "      <th></th>\n",
       "      <th></th>\n",
       "      <th></th>\n",
       "      <th></th>\n",
       "      <th></th>\n",
       "      <th></th>\n",
       "      <th></th>\n",
       "      <th></th>\n",
       "      <th></th>\n",
       "      <th></th>\n",
       "      <th></th>\n",
       "      <th></th>\n",
       "      <th></th>\n",
       "      <th></th>\n",
       "      <th></th>\n",
       "      <th></th>\n",
       "      <th></th>\n",
       "      <th></th>\n",
       "      <th></th>\n",
       "    </tr>\n",
       "  </thead>\n",
       "  <tbody>\n",
       "    <tr>\n",
       "      <th>Bronx</th>\n",
       "      <td>43.0</td>\n",
       "      <td>146.837209</td>\n",
       "      <td>80.463813</td>\n",
       "      <td>3.0</td>\n",
       "      <td>64.50</td>\n",
       "      <td>168.0</td>\n",
       "      <td>212.50</td>\n",
       "      <td>259.0</td>\n",
       "      <td>43.0</td>\n",
       "      <td>162.372093</td>\n",
       "      <td>...</td>\n",
       "      <td>0.014253</td>\n",
       "      <td>0.031053</td>\n",
       "      <td>43.0</td>\n",
       "      <td>2.972558</td>\n",
       "      <td>4.000280</td>\n",
       "      <td>0.09</td>\n",
       "      <td>0.9000</td>\n",
       "      <td>1.88</td>\n",
       "      <td>3.385</td>\n",
       "      <td>24.00</td>\n",
       "    </tr>\n",
       "    <tr>\n",
       "      <th>Brooklyn</th>\n",
       "      <td>61.0</td>\n",
       "      <td>108.393443</td>\n",
       "      <td>73.652626</td>\n",
       "      <td>11.0</td>\n",
       "      <td>49.00</td>\n",
       "      <td>85.0</td>\n",
       "      <td>177.00</td>\n",
       "      <td>257.0</td>\n",
       "      <td>61.0</td>\n",
       "      <td>179.737705</td>\n",
       "      <td>...</td>\n",
       "      <td>0.010660</td>\n",
       "      <td>0.031007</td>\n",
       "      <td>61.0</td>\n",
       "      <td>2.517049</td>\n",
       "      <td>3.014610</td>\n",
       "      <td>0.20</td>\n",
       "      <td>0.8000</td>\n",
       "      <td>1.52</td>\n",
       "      <td>3.000</td>\n",
       "      <td>18.40</td>\n",
       "    </tr>\n",
       "    <tr>\n",
       "      <th>EWR</th>\n",
       "      <td>1.0</td>\n",
       "      <td>1.000000</td>\n",
       "      <td>NaN</td>\n",
       "      <td>1.0</td>\n",
       "      <td>1.00</td>\n",
       "      <td>1.0</td>\n",
       "      <td>1.00</td>\n",
       "      <td>1.0</td>\n",
       "      <td>1.0</td>\n",
       "      <td>41.000000</td>\n",
       "      <td>...</td>\n",
       "      <td>0.002292</td>\n",
       "      <td>0.002292</td>\n",
       "      <td>1.0</td>\n",
       "      <td>0.500000</td>\n",
       "      <td>NaN</td>\n",
       "      <td>0.50</td>\n",
       "      <td>0.5000</td>\n",
       "      <td>0.50</td>\n",
       "      <td>0.500</td>\n",
       "      <td>0.50</td>\n",
       "    </tr>\n",
       "    <tr>\n",
       "      <th>Manhattan</th>\n",
       "      <td>69.0</td>\n",
       "      <td>147.434783</td>\n",
       "      <td>72.530821</td>\n",
       "      <td>4.0</td>\n",
       "      <td>100.00</td>\n",
       "      <td>144.0</td>\n",
       "      <td>224.00</td>\n",
       "      <td>263.0</td>\n",
       "      <td>69.0</td>\n",
       "      <td>161.811594</td>\n",
       "      <td>...</td>\n",
       "      <td>0.015729</td>\n",
       "      <td>0.035590</td>\n",
       "      <td>69.0</td>\n",
       "      <td>3.484348</td>\n",
       "      <td>4.256994</td>\n",
       "      <td>0.17</td>\n",
       "      <td>1.1700</td>\n",
       "      <td>2.16</td>\n",
       "      <td>3.520</td>\n",
       "      <td>22.07</td>\n",
       "    </tr>\n",
       "    <tr>\n",
       "      <th>Queens</th>\n",
       "      <td>69.0</td>\n",
       "      <td>128.565217</td>\n",
       "      <td>73.467576</td>\n",
       "      <td>2.0</td>\n",
       "      <td>73.00</td>\n",
       "      <td>131.0</td>\n",
       "      <td>193.00</td>\n",
       "      <td>260.0</td>\n",
       "      <td>69.0</td>\n",
       "      <td>187.318841</td>\n",
       "      <td>...</td>\n",
       "      <td>0.012963</td>\n",
       "      <td>0.025521</td>\n",
       "      <td>69.0</td>\n",
       "      <td>2.604493</td>\n",
       "      <td>2.922699</td>\n",
       "      <td>0.00</td>\n",
       "      <td>0.9000</td>\n",
       "      <td>1.80</td>\n",
       "      <td>2.840</td>\n",
       "      <td>17.90</td>\n",
       "    </tr>\n",
       "    <tr>\n",
       "      <th>Staten Island</th>\n",
       "      <td>20.0</td>\n",
       "      <td>137.250000</td>\n",
       "      <td>77.914173</td>\n",
       "      <td>5.0</td>\n",
       "      <td>95.25</td>\n",
       "      <td>137.0</td>\n",
       "      <td>204.50</td>\n",
       "      <td>251.0</td>\n",
       "      <td>20.0</td>\n",
       "      <td>148.300000</td>\n",
       "      <td>...</td>\n",
       "      <td>0.012792</td>\n",
       "      <td>0.020544</td>\n",
       "      <td>20.0</td>\n",
       "      <td>2.782500</td>\n",
       "      <td>2.670994</td>\n",
       "      <td>0.50</td>\n",
       "      <td>1.3375</td>\n",
       "      <td>1.90</td>\n",
       "      <td>3.075</td>\n",
       "      <td>12.70</td>\n",
       "    </tr>\n",
       "    <tr>\n",
       "      <th>Unknown</th>\n",
       "      <td>2.0</td>\n",
       "      <td>264.500000</td>\n",
       "      <td>0.707107</td>\n",
       "      <td>264.0</td>\n",
       "      <td>264.25</td>\n",
       "      <td>264.5</td>\n",
       "      <td>264.75</td>\n",
       "      <td>265.0</td>\n",
       "      <td>2.0</td>\n",
       "      <td>147.500000</td>\n",
       "      <td>...</td>\n",
       "      <td>0.006994</td>\n",
       "      <td>0.007292</td>\n",
       "      <td>2.0</td>\n",
       "      <td>2.150000</td>\n",
       "      <td>0.494975</td>\n",
       "      <td>1.80</td>\n",
       "      <td>1.9750</td>\n",
       "      <td>2.15</td>\n",
       "      <td>2.325</td>\n",
       "      <td>2.50</td>\n",
       "    </tr>\n",
       "  </tbody>\n",
       "</table>\n",
       "<p>7 rows × 40 columns</p>\n",
       "</div>"
      ],
      "text/plain": [
       "              LocationID                                                       \\\n",
       "                   count        mean        std    min     25%    50%     75%   \n",
       "Borough                                                                         \n",
       "Bronx               43.0  146.837209  80.463813    3.0   64.50  168.0  212.50   \n",
       "Brooklyn            61.0  108.393443  73.652626   11.0   49.00   85.0  177.00   \n",
       "EWR                  1.0    1.000000        NaN    1.0    1.00    1.0    1.00   \n",
       "Manhattan           69.0  147.434783  72.530821    4.0  100.00  144.0  224.00   \n",
       "Queens              69.0  128.565217  73.467576    2.0   73.00  131.0  193.00   \n",
       "Staten Island       20.0  137.250000  77.914173    5.0   95.25  137.0  204.50   \n",
       "Unknown              2.0  264.500000   0.707107  264.0  264.25  264.5  264.75   \n",
       "\n",
       "                     PULocationID              ...   time_diff_float  \\\n",
       "                 max        count        mean  ...               75%   \n",
       "Borough                                        ...                     \n",
       "Bronx          259.0         43.0  162.372093  ...          0.014253   \n",
       "Brooklyn       257.0         61.0  179.737705  ...          0.010660   \n",
       "EWR              1.0          1.0   41.000000  ...          0.002292   \n",
       "Manhattan      263.0         69.0  161.811594  ...          0.015729   \n",
       "Queens         260.0         69.0  187.318841  ...          0.012963   \n",
       "Staten Island  251.0         20.0  148.300000  ...          0.012792   \n",
       "Unknown        265.0          2.0  147.500000  ...          0.006994   \n",
       "\n",
       "                        trip_distance                                          \\\n",
       "                    max         count      mean       std   min     25%   50%   \n",
       "Borough                                                                         \n",
       "Bronx          0.031053          43.0  2.972558  4.000280  0.09  0.9000  1.88   \n",
       "Brooklyn       0.031007          61.0  2.517049  3.014610  0.20  0.8000  1.52   \n",
       "EWR            0.002292           1.0  0.500000       NaN  0.50  0.5000  0.50   \n",
       "Manhattan      0.035590          69.0  3.484348  4.256994  0.17  1.1700  2.16   \n",
       "Queens         0.025521          69.0  2.604493  2.922699  0.00  0.9000  1.80   \n",
       "Staten Island  0.020544          20.0  2.782500  2.670994  0.50  1.3375  1.90   \n",
       "Unknown        0.007292           2.0  2.150000  0.494975  1.80  1.9750  2.15   \n",
       "\n",
       "                             \n",
       "                 75%    max  \n",
       "Borough                      \n",
       "Bronx          3.385  24.00  \n",
       "Brooklyn       3.000  18.40  \n",
       "EWR            0.500   0.50  \n",
       "Manhattan      3.520  22.07  \n",
       "Queens         2.840  17.90  \n",
       "Staten Island  3.075  12.70  \n",
       "Unknown        2.325   2.50  \n",
       "\n",
       "[7 rows x 40 columns]"
      ]
     },
     "execution_count": 76,
     "metadata": {},
     "output_type": "execute_result"
    }
   ],
   "source": [
    "grouped.describe()"
   ]
  },
  {
   "cell_type": "code",
   "execution_count": 77,
   "metadata": {},
   "outputs": [
    {
     "data": {
      "text/html": [
       "<div>\n",
       "<style scoped>\n",
       "    .dataframe tbody tr th:only-of-type {\n",
       "        vertical-align: middle;\n",
       "    }\n",
       "\n",
       "    .dataframe tbody tr th {\n",
       "        vertical-align: top;\n",
       "    }\n",
       "\n",
       "    .dataframe thead th {\n",
       "        text-align: right;\n",
       "    }\n",
       "</style>\n",
       "<table border=\"1\" class=\"dataframe\">\n",
       "  <thead>\n",
       "    <tr style=\"text-align: right;\">\n",
       "      <th></th>\n",
       "      <th></th>\n",
       "      <th>trip_distance</th>\n",
       "      <th>time_diff_float</th>\n",
       "    </tr>\n",
       "    <tr>\n",
       "      <th>Borough</th>\n",
       "      <th></th>\n",
       "      <th></th>\n",
       "      <th></th>\n",
       "    </tr>\n",
       "  </thead>\n",
       "  <tbody>\n",
       "    <tr>\n",
       "      <th rowspan=\"2\" valign=\"top\">Bronx</th>\n",
       "      <th>trip_distance</th>\n",
       "      <td>1.000000</td>\n",
       "      <td>0.708914</td>\n",
       "    </tr>\n",
       "    <tr>\n",
       "      <th>time_diff_float</th>\n",
       "      <td>0.708914</td>\n",
       "      <td>1.000000</td>\n",
       "    </tr>\n",
       "    <tr>\n",
       "      <th rowspan=\"2\" valign=\"top\">Brooklyn</th>\n",
       "      <th>trip_distance</th>\n",
       "      <td>1.000000</td>\n",
       "      <td>0.606522</td>\n",
       "    </tr>\n",
       "    <tr>\n",
       "      <th>time_diff_float</th>\n",
       "      <td>0.606522</td>\n",
       "      <td>1.000000</td>\n",
       "    </tr>\n",
       "    <tr>\n",
       "      <th rowspan=\"2\" valign=\"top\">EWR</th>\n",
       "      <th>trip_distance</th>\n",
       "      <td>NaN</td>\n",
       "      <td>NaN</td>\n",
       "    </tr>\n",
       "    <tr>\n",
       "      <th>time_diff_float</th>\n",
       "      <td>NaN</td>\n",
       "      <td>NaN</td>\n",
       "    </tr>\n",
       "    <tr>\n",
       "      <th rowspan=\"2\" valign=\"top\">Manhattan</th>\n",
       "      <th>trip_distance</th>\n",
       "      <td>1.000000</td>\n",
       "      <td>0.746053</td>\n",
       "    </tr>\n",
       "    <tr>\n",
       "      <th>time_diff_float</th>\n",
       "      <td>0.746053</td>\n",
       "      <td>1.000000</td>\n",
       "    </tr>\n",
       "    <tr>\n",
       "      <th rowspan=\"2\" valign=\"top\">Queens</th>\n",
       "      <th>trip_distance</th>\n",
       "      <td>1.000000</td>\n",
       "      <td>0.743820</td>\n",
       "    </tr>\n",
       "    <tr>\n",
       "      <th>time_diff_float</th>\n",
       "      <td>0.743820</td>\n",
       "      <td>1.000000</td>\n",
       "    </tr>\n",
       "    <tr>\n",
       "      <th rowspan=\"2\" valign=\"top\">Staten Island</th>\n",
       "      <th>trip_distance</th>\n",
       "      <td>1.000000</td>\n",
       "      <td>0.435127</td>\n",
       "    </tr>\n",
       "    <tr>\n",
       "      <th>time_diff_float</th>\n",
       "      <td>0.435127</td>\n",
       "      <td>1.000000</td>\n",
       "    </tr>\n",
       "    <tr>\n",
       "      <th rowspan=\"2\" valign=\"top\">Unknown</th>\n",
       "      <th>trip_distance</th>\n",
       "      <td>1.000000</td>\n",
       "      <td>1.000000</td>\n",
       "    </tr>\n",
       "    <tr>\n",
       "      <th>time_diff_float</th>\n",
       "      <td>1.000000</td>\n",
       "      <td>1.000000</td>\n",
       "    </tr>\n",
       "  </tbody>\n",
       "</table>\n",
       "</div>"
      ],
      "text/plain": [
       "                               trip_distance  time_diff_float\n",
       "Borough                                                      \n",
       "Bronx         trip_distance         1.000000         0.708914\n",
       "              time_diff_float       0.708914         1.000000\n",
       "Brooklyn      trip_distance         1.000000         0.606522\n",
       "              time_diff_float       0.606522         1.000000\n",
       "EWR           trip_distance              NaN              NaN\n",
       "              time_diff_float            NaN              NaN\n",
       "Manhattan     trip_distance         1.000000         0.746053\n",
       "              time_diff_float       0.746053         1.000000\n",
       "Queens        trip_distance         1.000000         0.743820\n",
       "              time_diff_float       0.743820         1.000000\n",
       "Staten Island trip_distance         1.000000         0.435127\n",
       "              time_diff_float       0.435127         1.000000\n",
       "Unknown       trip_distance         1.000000         1.000000\n",
       "              time_diff_float       1.000000         1.000000"
      ]
     },
     "execution_count": 77,
     "metadata": {},
     "output_type": "execute_result"
    }
   ],
   "source": [
    " grouped[['trip_distance','time_diff_float']].corr()"
   ]
  },
  {
   "cell_type": "code",
   "execution_count": 78,
   "metadata": {},
   "outputs": [],
   "source": [
    "#the pearson coefficient is significant for manhattan(0.7460) and queens(0.7438)\n"
   ]
  },
  {
   "cell_type": "code",
   "execution_count": 90,
   "metadata": {},
   "outputs": [],
   "source": [
    "from sklearn.linear_model import LinearRegression"
   ]
  },
  {
   "cell_type": "code",
   "execution_count": 91,
   "metadata": {},
   "outputs": [],
   "source": [
    "import matplotlib.pyplot as plt"
   ]
  },
  {
   "cell_type": "code",
   "execution_count": 92,
   "metadata": {},
   "outputs": [],
   "source": [
    "from sklearn.preprocessing import scale"
   ]
  },
  {
   "cell_type": "code",
   "execution_count": 99,
   "metadata": {},
   "outputs": [],
   "source": [
    "import seaborn as sns"
   ]
  },
  {
   "cell_type": "code",
   "execution_count": 100,
   "metadata": {},
   "outputs": [],
   "source": [
    "from pylab import rcParams"
   ]
  },
  {
   "cell_type": "code",
   "execution_count": 101,
   "metadata": {},
   "outputs": [],
   "source": [
    "%matplotlib inline"
   ]
  },
  {
   "cell_type": "code",
   "execution_count": 127,
   "metadata": {},
   "outputs": [
    {
     "name": "stderr",
     "output_type": "stream",
     "text": [
      "C:\\Users\\utente\\Anaconda3\\lib\\site-packages\\scipy\\stats\\stats.py:1713: FutureWarning: Using a non-tuple sequence for multidimensional indexing is deprecated; use `arr[tuple(seq)]` instead of `arr[seq]`. In the future this will be interpreted as an array index, `arr[np.array(seq)]`, which will result either in an error or a different result.\n",
      "  return np.add.reduce(sorted[indexer] * weights, axis=axis) / sumval\n"
     ]
    },
    {
     "data": {
      "text/plain": [
       "Text(0.5,0.98,'correlation between time and trip distance')"
      ]
     },
     "execution_count": 127,
     "metadata": {},
     "output_type": "execute_result"
    },
    {
     "data": {
      "image/png": "[encoded data removed]",
      "text/plain": [
       "<Figure size 1008x504 with 1 Axes>"
      ]
     },
     "metadata": {
      "needs_background": "light"
     },
     "output_type": "display_data"
    }
   ],
   "source": [
    "g = sns.pairplot(datafm2, x_vars = 'trip_distance', y_vars ='time_diff_float', height = 7, aspect = 2, kind ='reg')\n",
    "g.fig.suptitle(\"correlation between time and trip distance\")"
   ]
  },
  {
   "cell_type": "code",
   "execution_count": null,
   "metadata": {},
   "outputs": [],
   "source": []
  },
  {
   "cell_type": "code",
   "execution_count": 86,
   "metadata": {},
   "outputs": [
    {
     "data": {
      "text/plain": [
       "<Figure size 432x288 with 0 Axes>"
      ]
     },
     "execution_count": 86,
     "metadata": {},
     "output_type": "execute_result"
    },
    {
     "data": {
      "text/plain": [
       "<Figure size 432x288 with 0 Axes>"
      ]
     },
     "metadata": {},
     "output_type": "display_data"
    }
   ],
   "source": [
    "plt.figure()"
   ]
  },
  {
   "cell_type": "code",
   "execution_count": 87,
   "metadata": {},
   "outputs": [
    {
     "data": {
      "text/plain": [
       "<matplotlib.axes._subplots.AxesSubplot at 0xae90b70>"
      ]
     },
     "execution_count": 87,
     "metadata": {},
     "output_type": "execute_result"
    },
    {
     "data": {
      "image/png": "[encoded data removed]",
      "text/plain": [
       "<Figure size 432x288 with 1 Axes>"
      ]
     },
     "metadata": {
      "needs_background": "light"
     },
     "output_type": "display_data"
    }
   ],
   "source": [
    "datafm2['time_diff_float'].diff().hist()"
   ]
  },
  {
   "cell_type": "code",
   "execution_count": 88,
   "metadata": {},
   "outputs": [
    {
     "data": {
      "text/plain": [
       "<matplotlib.axes._subplots.AxesSubplot at 0xade2048>"
      ]
     },
     "execution_count": 88,
     "metadata": {},
     "output_type": "execute_result"
    },
    {
     "data": {
      "image/png": "[encoded data removed]",
      "text/plain": [
       "<Figure size 432x288 with 1 Axes>"
      ]
     },
     "metadata": {
      "needs_background": "light"
     },
     "output_type": "display_data"
    }
   ],
   "source": [
    "datafm2['time_diff_float'].plot.kde()"
   ]
  },
  {
   "cell_type": "code",
   "execution_count": null,
   "metadata": {},
   "outputs": [],
   "source": [
    "#la disribuzione del tempo impiegato sembra seguire un andamento chi-quadro(ovviamente \n",
    "#questo risultato è da valutae per tutti i dati)\n"
   ]
  },
  {
   "cell_type": "code",
   "execution_count": null,
   "metadata": {},
   "outputs": [],
   "source": []
  }
 ],
 "metadata": {
  "kernelspec": {
   "display_name": "Python 3",
   "language": "python",
   "name": "python3"
  },
  "language_info": {
   "codemirror_mode": {
    "name": "ipython",
    "version": 3
   },
   "file_extension": ".py",
   "mimetype": "text/x-python",
   "name": "python",
   "nbconvert_exporter": "python",
   "pygments_lexer": "ipython3",
   "version": "3.6.5"
  }
 },
 "nbformat": 4,
 "nbformat_minor": 2
}
