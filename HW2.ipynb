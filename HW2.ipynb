{
 "cells": [
  {
   "cell_type": "code",
   "execution_count": 74,
   "metadata": {},
   "outputs": [
    {
     "name": "stdout",
     "output_type": "stream",
     "text": [
      "2 3 \n",
      "5 6\n",
      "\n",
      "2 5 \n",
      "7 16 \n"
     ]
    }
   ],
   "source": [
    "matrixIn=[]\n",
    "s=input()\n",
    "while(s!=\"\"):\n",
    "    l=list(map(int,s.split()))    \n",
    "    matrixIn.append(l)\n",
    "    s=input()\n",
    "rows=len(matrixIn)\n",
    "columns=0\n",
    "if(rows>0):\n",
    "    columns=len(matrixIn[0])\n",
    "#creating a result matrix\n",
    "result_matrix=[]\n",
    "empty_row=[] \n",
    "if(rows>0 and columns>0):\n",
    "    #creating empty result matrix\n",
    "    for row_index in range(rows):\n",
    "        empty_row=[]\n",
    "        for column_index in range(columns):\n",
    "            empty_row.append(0)\n",
    "        result_matrix.append(empty_row)\n",
    "        \n",
    "    for row_index in range(rows):\n",
    "        for column_index in range(columns):\n",
    "            submatrix_count = 0\n",
    "            left_item_index = -1\n",
    "            top_item_index = -1\n",
    "            \n",
    "            submatrix_count = submatrix_count + matrixIn[row_index][column_index]\n",
    "            \n",
    "            left_item_index =  column_index - 1\n",
    "            if(left_item_index > -1):\n",
    "                submatrix_count = submatrix_count + result_matrix[row_index][left_item_index]\n",
    "            \n",
    "            top_item_index =  row_index - 1\n",
    "            if(top_item_index > -1):\n",
    "                submatrix_count = submatrix_count + result_matrix[top_item_index][column_index] \n",
    "            \n",
    "            if(left_item_index > -1 and top_item_index > -1):\n",
    "                submatrix_count = submatrix_count - result_matrix[top_item_index][left_item_index]            \n",
    "            result_matrix[row_index][column_index] = submatrix_count\n",
    "            \n",
    "    for row_index in range(rows):\n",
    "        for column_index in range(columns):\n",
    "            print(result_matrix[row_index][column_index],end=\"\")\n",
    "            print(\" \",end=\"\")\n",
    "        print(\"\\n\",end=\"\")\n",
    "  \n"
   ]
  },
  {
   "cell_type": "code",
   "execution_count": null,
   "metadata": {},
   "outputs": [],
   "source": []
  },
  {
   "cell_type": "code",
   "execution_count": null,
   "metadata": {},
   "outputs": [],
   "source": []
  }
 ],
 "metadata": {
  "kernelspec": {
   "display_name": "Python 3",
   "language": "python",
   "name": "python3"
  },
  "language_info": {
   "codemirror_mode": {
    "name": "ipython",
    "version": 3
   },
   "file_extension": ".py",
   "mimetype": "text/x-python",
   "name": "python",
   "nbconvert_exporter": "python",
   "pygments_lexer": "ipython3",
   "version": "3.6.5"
  }
 },
 "nbformat": 4,
 "nbformat_minor": 2
}
