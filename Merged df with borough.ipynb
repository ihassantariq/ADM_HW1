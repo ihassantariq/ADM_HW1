{
 "cells": [
  {
   "cell_type": "code",
   "execution_count": null,
   "metadata": {},
   "outputs": [],
   "source": [
    "import pandas as pd\n",
    "import numpy as np\n",
    "\n",
    "df = pd.read_csv('yellow_tripdata_2018-01.csv')\n",
    "zone = pd.read_csv('taxi _zone_lookup.csv')\n",
    "\n",
    "zone = zone[['LocationID', 'Borough']].set_index('LocationID')\n",
    "\n",
    "#merged dataframe with borough\n",
    "df = df.join(zone, on = 'DOLocationID', how = 'left')"
   ]
  }
 ],
 "metadata": {
  "kernelspec": {
   "display_name": "Python 3",
   "language": "python",
   "name": "python3"
  },
  "language_info": {
   "codemirror_mode": {
    "name": "ipython",
    "version": 3
   },
   "file_extension": ".py",
   "mimetype": "text/x-python",
   "name": "python",
   "nbconvert_exporter": "python",
   "pygments_lexer": "ipython3",
   "version": "3.6.5"
  }
 },
 "nbformat": 4,
 "nbformat_minor": 2
}
