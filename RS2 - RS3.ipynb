{
 "cells": [
  {
   "cell_type": "markdown",
   "metadata": {},
   "source": [
    "### PREPARATION"
   ]
  },
  {
   "cell_type": "code",
   "execution_count": 1,
   "metadata": {},
   "outputs": [],
   "source": [
    "import pandas as pd\n",
    "import numpy as np"
   ]
  },
  {
   "cell_type": "code",
   "execution_count": 2,
   "metadata": {},
   "outputs": [],
   "source": [
    "df = pd.read_csv('yellow_tripdata_2018-01.csv')"
   ]
  },
  {
   "cell_type": "code",
   "execution_count": 3,
   "metadata": {},
   "outputs": [],
   "source": [
    "zone = pd.read_csv('taxi _zone_lookup.csv')"
   ]
  },
  {
   "cell_type": "code",
   "execution_count": 4,
   "metadata": {},
   "outputs": [],
   "source": [
    "zone = zone[['LocationID', 'Borough']].set_index('LocationID')"
   ]
  },
  {
   "cell_type": "code",
   "execution_count": 5,
   "metadata": {},
   "outputs": [],
   "source": [
    "df = df.join(zone, on = 'DOLocationID', how = 'left')"
   ]
  },
  {
   "cell_type": "code",
   "execution_count": 6,
   "metadata": {},
   "outputs": [],
   "source": [
    "df['tpep_dropoff_datetime'] = pd.to_datetime(df['tpep_dropoff_datetime'], format = '%Y%m%d %H:%M:%S')"
   ]
  },
  {
   "cell_type": "code",
   "execution_count": 7,
   "metadata": {},
   "outputs": [],
   "source": [
    "df['tpep_pickup_datetime'] = pd.to_datetime(df['tpep_pickup_datetime'], format = '%Y%m%d %H:%M:%S')"
   ]
  },
  {
   "cell_type": "code",
   "execution_count": 8,
   "metadata": {},
   "outputs": [],
   "source": [
    "y = pd.to_datetime('2018')\n",
    "y = y.year\n",
    "m = pd.to_datetime('01', format='%m')\n",
    "m = m.month"
   ]
  },
  {
   "cell_type": "code",
   "execution_count": 9,
   "metadata": {},
   "outputs": [],
   "source": [
    "df = df.loc[(df['tpep_dropoff_datetime'].dt.year == y) & df['tpep_dropoff_datetime'].dt.month == m]"
   ]
  },
  {
   "cell_type": "code",
   "execution_count": 10,
   "metadata": {},
   "outputs": [],
   "source": [
    "df = df.loc[(df['tpep_pickup_datetime'].dt.year == y) & df['tpep_pickup_datetime'].dt.month == m]"
   ]
  },
  {
   "cell_type": "code",
   "execution_count": 11,
   "metadata": {},
   "outputs": [],
   "source": [
    "df = df.sort_values('tpep_pickup_datetime')"
   ]
  },
  {
   "cell_type": "code",
   "execution_count": 12,
   "metadata": {},
   "outputs": [],
   "source": [
    "df = df.reset_index(drop=True)"
   ]
  },
  {
   "cell_type": "code",
   "execution_count": 13,
   "metadata": {},
   "outputs": [],
   "source": [
    "df.drop(df.index[list(range(8757432, 8757438))], inplace = True)"
   ]
  },
  {
   "cell_type": "markdown",
   "metadata": {},
   "source": [
    "# RESEARCH QUESTION 2"
   ]
  },
  {
   "cell_type": "markdown",
   "metadata": {},
   "source": [
    "What are the time slots with more passengers? Set your own time slots and discover which are those when Taxis drive the highest number of passengers overall New York and repeat the analysis for each borough. Provide the results through a visualization and comment them."
   ]
  },
  {
   "cell_type": "markdown",
   "metadata": {},
   "source": [
    "We have decided to take into account four time-slots:\n",
    "1. 06:01 to 12:00\n",
    "2. 12:01 to 18:00\n",
    "3. 18:01 to 00:00\n",
    "4. 00:01 to 06:00"
   ]
  },
  {
   "cell_type": "code",
   "execution_count": 173,
   "metadata": {},
   "outputs": [],
   "source": [
    "jan = df.copy()"
   ]
  },
  {
   "cell_type": "code",
   "execution_count": 175,
   "metadata": {},
   "outputs": [],
   "source": [
    "#get rid of the date\n",
    "\n",
    "jan['tpep_pickup_datetime'] = jan['tpep_pickup_datetime'].dt.time\n",
    "jan['tpep_dropoff_datetime'] = jan['tpep_dropoff_datetime'].dt.time"
   ]
  },
  {
   "cell_type": "code",
   "execution_count": 176,
   "metadata": {},
   "outputs": [],
   "source": [
    "#keep just needed columns\n",
    "\n",
    "jan = jan[['tpep_pickup_datetime', 'tpep_dropoff_datetime', 'passenger_count', 'Borough']].copy()"
   ]
  },
  {
   "cell_type": "code",
   "execution_count": 177,
   "metadata": {},
   "outputs": [],
   "source": [
    "#We created a series containig our times and converted into datetime.time\n",
    "\n",
    "import datetime\n",
    "times = pd.Series(['06:00:00', '12:00:00', '18:00:00', '00:00:00'])\n",
    "times = pd.to_datetime(times, format = '%H:%M:%S')\n",
    "times = times.dt.time"
   ]
  },
  {
   "cell_type": "code",
   "execution_count": 179,
   "metadata": {},
   "outputs": [],
   "source": [
    "#For every slot we create a dataframe from the original one (jan) that contains only the taxi rides\n",
    "#within that slot, and count the number of passengers.\n",
    "\n",
    "slot_1 = jan.loc[jan['tpep_pickup_datetime'] >= times[0]]\n",
    "slot_1 = jan.loc[jan['tpep_dropoff_datetime'] < times[1]]\n",
    "slot_1 = slot_1['passenger_count'].sum()\n",
    "\n",
    "slot_2 = jan.loc[jan['tpep_pickup_datetime'] >= times[1]]\n",
    "slot_2 = jan.loc[jan['tpep_dropoff_datetime'] < times[2]]\n",
    "slot_2 = slot_2['passenger_count'].sum()\n",
    "\n",
    "slot_3 = jan.loc[jan['tpep_pickup_datetime'] >= times[2]]\n",
    "slot_3 = jan.loc[jan['tpep_dropoff_datetime'] < times[3]]\n",
    "slot_3 = slot_3['passenger_count'].sum()\n",
    "\n",
    "slot_4 = jan.loc[jan['tpep_pickup_datetime'] >= times[3]]\n",
    "slot_4 = jan.loc[jan['tpep_dropoff_datetime'] < times[0]]\n",
    "slot_4 = slot_4['passenger_count'].sum()"
   ]
  },
  {
   "cell_type": "code",
   "execution_count": 184,
   "metadata": {},
   "outputs": [
    {
     "name": "stdout",
     "output_type": "stream",
     "text": [
      "Time slot with the highest number of passengers overall New York is 12:00-18:00.\n"
     ]
    }
   ],
   "source": [
    "#we create a series containing the total number of passengers for each slot, and then we find \n",
    "#the index of the maximum value.\n",
    "\n",
    "people = pd.Series([slot_1, slot_2, slot_3, slot_4], \n",
    "                   index = ['06:00-12:00', '12:00-18:00', '18:00-00:00', '00:00-06:00'])\n",
    "answer = people.idxmax()\n",
    "print('Time slot with the highest number of passengers overall New York is', answer+'.')"
   ]
  },
  {
   "cell_type": "markdown",
   "metadata": {},
   "source": [
    "### Now we repeat the analysis for each borough:"
   ]
  },
  {
   "cell_type": "code",
   "execution_count": 273,
   "metadata": {},
   "outputs": [],
   "source": [
    "#Get names of boroughs in alphabetical order\n",
    "\n",
    "boroughs = jan['Borough'].unique()\n",
    "boroughs.sort()"
   ]
  },
  {
   "cell_type": "code",
   "execution_count": 274,
   "metadata": {},
   "outputs": [],
   "source": [
    "#Use the previous code:\n",
    "\n",
    "def passenger_peak(jan, str_):\n",
    "\n",
    "    slot_1 = jan.loc[jan['tpep_pickup_datetime'] >= times[0]]\n",
    "    slot_1 = jan.loc[jan['tpep_dropoff_datetime'] < times[1]]\n",
    "    slot_1 = slot_1['passenger_count'].sum()\n",
    "\n",
    "    slot_2 = jan.loc[jan['tpep_pickup_datetime'] >= times[1]]\n",
    "    slot_2 = jan.loc[jan['tpep_dropoff_datetime'] < times[2]]\n",
    "    slot_2 = slot_2['passenger_count'].sum()\n",
    "\n",
    "    slot_3 = jan.loc[jan['tpep_pickup_datetime'] >= times[2]]\n",
    "    slot_3 = jan.loc[jan['tpep_dropoff_datetime'] < times[3]]\n",
    "    slot_3 = slot_3['passenger_count'].sum()\n",
    "\n",
    "    slot_4 = jan.loc[jan['tpep_pickup_datetime'] >= times[3]]\n",
    "    slot_4 = jan.loc[jan['tpep_dropoff_datetime'] < times[0]]\n",
    "    slot_4 = slot_4['passenger_count'].sum()\n",
    "    \n",
    "    people = pd.Series([slot_1, slot_2, slot_3, slot_4], \n",
    "                   index = ['06:00-12:00', '12:00-18:00', '18:00-00:00', '00:00-06:00'])\n",
    "    answer = people.idxmax()\n",
    "\n",
    "    print('The time slot with the highest number of passengers in', str_, 'is', answer+'.')"
   ]
  },
  {
   "cell_type": "code",
   "execution_count": 275,
   "metadata": {},
   "outputs": [
    {
     "name": "stdout",
     "output_type": "stream",
     "text": [
      "The time slot with the highest number of passengers in Bronx is 12:00-18:00.\n",
      "The time slot with the highest number of passengers in Brooklyn is 12:00-18:00.\n",
      "The time slot with the highest number of passengers in EWR is 12:00-18:00.\n",
      "The time slot with the highest number of passengers in Manhattan is 12:00-18:00.\n",
      "The time slot with the highest number of passengers in Queens is 12:00-18:00.\n",
      "The time slot with the highest number of passengers in Staten Island is 12:00-18:00.\n"
     ]
    }
   ],
   "source": [
    "for i in range(len(boroughs)):\n",
    "    if boroughs[i] == 'Unknown':\n",
    "        pass\n",
    "    else:\n",
    "        borough = jan.loc[jan['Borough'] == boroughs[i]]\n",
    "        passenger_peak(borough, boroughs[i])"
   ]
  },
  {
   "cell_type": "markdown",
   "metadata": {},
   "source": [
    "\n"
   ]
  },
  {
   "cell_type": "markdown",
   "metadata": {},
   "source": [
    "# RESEARCH QUESTION 3"
   ]
  },
  {
   "cell_type": "markdown",
   "metadata": {},
   "source": [
    "Do the all trips last the same? Let's put our attention on the distribution of trip's duration. Provide a plot for it and comment what you see. Run this analysis for NYC and for each borough (and obviously comment the results!)."
   ]
  },
  {
   "cell_type": "code",
   "execution_count": 14,
   "metadata": {},
   "outputs": [],
   "source": [
    "j = df.copy()"
   ]
  },
  {
   "cell_type": "code",
   "execution_count": 24,
   "metadata": {},
   "outputs": [],
   "source": [
    "j = j[['tpep_pickup_datetime', 'tpep_dropoff_datetime']]\n",
    "dropoff = j['tpep_dropoff_datetime']\n",
    "pickup = j['tpep_pickup_datetime']\n",
    "delta = (dropoff-pickup).astype('timedelta64[m]')\n",
    "n_rides = pd.DataFrame(delta.value_counts(), index=delta)"
   ]
  },
  {
   "cell_type": "code",
   "execution_count": 25,
   "metadata": {},
   "outputs": [],
   "source": [
    "n_rides = n_rides[n_rides.index >= 0]\n",
    "dis = n_rides[n_rides.index <= 60]\n",
    "dis = dis.sort_index()"
   ]
  },
  {
   "cell_type": "code",
   "execution_count": 27,
   "metadata": {},
   "outputs": [
    {
     "data": {
      "text/html": [
       "<div>\n",
       "<style scoped>\n",
       "    .dataframe tbody tr th:only-of-type {\n",
       "        vertical-align: middle;\n",
       "    }\n",
       "\n",
       "    .dataframe tbody tr th {\n",
       "        vertical-align: top;\n",
       "    }\n",
       "\n",
       "    .dataframe thead th {\n",
       "        text-align: right;\n",
       "    }\n",
       "</style>\n",
       "<table border=\"1\" class=\"dataframe\">\n",
       "  <thead>\n",
       "    <tr style=\"text-align: right;\">\n",
       "      <th></th>\n",
       "      <th>0</th>\n",
       "    </tr>\n",
       "  </thead>\n",
       "  <tbody>\n",
       "    <tr>\n",
       "      <th>0.0</th>\n",
       "      <td>73933</td>\n",
       "    </tr>\n",
       "    <tr>\n",
       "      <th>0.0</th>\n",
       "      <td>73933</td>\n",
       "    </tr>\n",
       "    <tr>\n",
       "      <th>0.0</th>\n",
       "      <td>73933</td>\n",
       "    </tr>\n",
       "    <tr>\n",
       "      <th>0.0</th>\n",
       "      <td>73933</td>\n",
       "    </tr>\n",
       "    <tr>\n",
       "      <th>0.0</th>\n",
       "      <td>73933</td>\n",
       "    </tr>\n",
       "    <tr>\n",
       "      <th>0.0</th>\n",
       "      <td>73933</td>\n",
       "    </tr>\n",
       "    <tr>\n",
       "      <th>0.0</th>\n",
       "      <td>73933</td>\n",
       "    </tr>\n",
       "    <tr>\n",
       "      <th>0.0</th>\n",
       "      <td>73933</td>\n",
       "    </tr>\n",
       "    <tr>\n",
       "      <th>0.0</th>\n",
       "      <td>73933</td>\n",
       "    </tr>\n",
       "    <tr>\n",
       "      <th>0.0</th>\n",
       "      <td>73933</td>\n",
       "    </tr>\n",
       "    <tr>\n",
       "      <th>0.0</th>\n",
       "      <td>73933</td>\n",
       "    </tr>\n",
       "    <tr>\n",
       "      <th>0.0</th>\n",
       "      <td>73933</td>\n",
       "    </tr>\n",
       "    <tr>\n",
       "      <th>0.0</th>\n",
       "      <td>73933</td>\n",
       "    </tr>\n",
       "    <tr>\n",
       "      <th>0.0</th>\n",
       "      <td>73933</td>\n",
       "    </tr>\n",
       "    <tr>\n",
       "      <th>0.0</th>\n",
       "      <td>73933</td>\n",
       "    </tr>\n",
       "    <tr>\n",
       "      <th>0.0</th>\n",
       "      <td>73933</td>\n",
       "    </tr>\n",
       "    <tr>\n",
       "      <th>0.0</th>\n",
       "      <td>73933</td>\n",
       "    </tr>\n",
       "    <tr>\n",
       "      <th>0.0</th>\n",
       "      <td>73933</td>\n",
       "    </tr>\n",
       "    <tr>\n",
       "      <th>0.0</th>\n",
       "      <td>73933</td>\n",
       "    </tr>\n",
       "    <tr>\n",
       "      <th>0.0</th>\n",
       "      <td>73933</td>\n",
       "    </tr>\n",
       "    <tr>\n",
       "      <th>0.0</th>\n",
       "      <td>73933</td>\n",
       "    </tr>\n",
       "    <tr>\n",
       "      <th>0.0</th>\n",
       "      <td>73933</td>\n",
       "    </tr>\n",
       "    <tr>\n",
       "      <th>0.0</th>\n",
       "      <td>73933</td>\n",
       "    </tr>\n",
       "    <tr>\n",
       "      <th>0.0</th>\n",
       "      <td>73933</td>\n",
       "    </tr>\n",
       "    <tr>\n",
       "      <th>0.0</th>\n",
       "      <td>73933</td>\n",
       "    </tr>\n",
       "    <tr>\n",
       "      <th>0.0</th>\n",
       "      <td>73933</td>\n",
       "    </tr>\n",
       "    <tr>\n",
       "      <th>0.0</th>\n",
       "      <td>73933</td>\n",
       "    </tr>\n",
       "    <tr>\n",
       "      <th>0.0</th>\n",
       "      <td>73933</td>\n",
       "    </tr>\n",
       "    <tr>\n",
       "      <th>0.0</th>\n",
       "      <td>73933</td>\n",
       "    </tr>\n",
       "    <tr>\n",
       "      <th>0.0</th>\n",
       "      <td>73933</td>\n",
       "    </tr>\n",
       "    <tr>\n",
       "      <th>...</th>\n",
       "      <td>...</td>\n",
       "    </tr>\n",
       "    <tr>\n",
       "      <th>60.0</th>\n",
       "      <td>3448</td>\n",
       "    </tr>\n",
       "    <tr>\n",
       "      <th>60.0</th>\n",
       "      <td>3448</td>\n",
       "    </tr>\n",
       "    <tr>\n",
       "      <th>60.0</th>\n",
       "      <td>3448</td>\n",
       "    </tr>\n",
       "    <tr>\n",
       "      <th>60.0</th>\n",
       "      <td>3448</td>\n",
       "    </tr>\n",
       "    <tr>\n",
       "      <th>60.0</th>\n",
       "      <td>3448</td>\n",
       "    </tr>\n",
       "    <tr>\n",
       "      <th>60.0</th>\n",
       "      <td>3448</td>\n",
       "    </tr>\n",
       "    <tr>\n",
       "      <th>60.0</th>\n",
       "      <td>3448</td>\n",
       "    </tr>\n",
       "    <tr>\n",
       "      <th>60.0</th>\n",
       "      <td>3448</td>\n",
       "    </tr>\n",
       "    <tr>\n",
       "      <th>60.0</th>\n",
       "      <td>3448</td>\n",
       "    </tr>\n",
       "    <tr>\n",
       "      <th>60.0</th>\n",
       "      <td>3448</td>\n",
       "    </tr>\n",
       "    <tr>\n",
       "      <th>60.0</th>\n",
       "      <td>3448</td>\n",
       "    </tr>\n",
       "    <tr>\n",
       "      <th>60.0</th>\n",
       "      <td>3448</td>\n",
       "    </tr>\n",
       "    <tr>\n",
       "      <th>60.0</th>\n",
       "      <td>3448</td>\n",
       "    </tr>\n",
       "    <tr>\n",
       "      <th>60.0</th>\n",
       "      <td>3448</td>\n",
       "    </tr>\n",
       "    <tr>\n",
       "      <th>60.0</th>\n",
       "      <td>3448</td>\n",
       "    </tr>\n",
       "    <tr>\n",
       "      <th>60.0</th>\n",
       "      <td>3448</td>\n",
       "    </tr>\n",
       "    <tr>\n",
       "      <th>60.0</th>\n",
       "      <td>3448</td>\n",
       "    </tr>\n",
       "    <tr>\n",
       "      <th>60.0</th>\n",
       "      <td>3448</td>\n",
       "    </tr>\n",
       "    <tr>\n",
       "      <th>60.0</th>\n",
       "      <td>3448</td>\n",
       "    </tr>\n",
       "    <tr>\n",
       "      <th>60.0</th>\n",
       "      <td>3448</td>\n",
       "    </tr>\n",
       "    <tr>\n",
       "      <th>60.0</th>\n",
       "      <td>3448</td>\n",
       "    </tr>\n",
       "    <tr>\n",
       "      <th>60.0</th>\n",
       "      <td>3448</td>\n",
       "    </tr>\n",
       "    <tr>\n",
       "      <th>60.0</th>\n",
       "      <td>3448</td>\n",
       "    </tr>\n",
       "    <tr>\n",
       "      <th>60.0</th>\n",
       "      <td>3448</td>\n",
       "    </tr>\n",
       "    <tr>\n",
       "      <th>60.0</th>\n",
       "      <td>3448</td>\n",
       "    </tr>\n",
       "    <tr>\n",
       "      <th>60.0</th>\n",
       "      <td>3448</td>\n",
       "    </tr>\n",
       "    <tr>\n",
       "      <th>60.0</th>\n",
       "      <td>3448</td>\n",
       "    </tr>\n",
       "    <tr>\n",
       "      <th>60.0</th>\n",
       "      <td>3448</td>\n",
       "    </tr>\n",
       "    <tr>\n",
       "      <th>60.0</th>\n",
       "      <td>3448</td>\n",
       "    </tr>\n",
       "    <tr>\n",
       "      <th>60.0</th>\n",
       "      <td>3448</td>\n",
       "    </tr>\n",
       "  </tbody>\n",
       "</table>\n",
       "<p>8699037 rows × 1 columns</p>\n",
       "</div>"
      ],
      "text/plain": [
       "          0\n",
       "0.0   73933\n",
       "0.0   73933\n",
       "0.0   73933\n",
       "0.0   73933\n",
       "0.0   73933\n",
       "0.0   73933\n",
       "0.0   73933\n",
       "0.0   73933\n",
       "0.0   73933\n",
       "0.0   73933\n",
       "0.0   73933\n",
       "0.0   73933\n",
       "0.0   73933\n",
       "0.0   73933\n",
       "0.0   73933\n",
       "0.0   73933\n",
       "0.0   73933\n",
       "0.0   73933\n",
       "0.0   73933\n",
       "0.0   73933\n",
       "0.0   73933\n",
       "0.0   73933\n",
       "0.0   73933\n",
       "0.0   73933\n",
       "0.0   73933\n",
       "0.0   73933\n",
       "0.0   73933\n",
       "0.0   73933\n",
       "0.0   73933\n",
       "0.0   73933\n",
       "...     ...\n",
       "60.0   3448\n",
       "60.0   3448\n",
       "60.0   3448\n",
       "60.0   3448\n",
       "60.0   3448\n",
       "60.0   3448\n",
       "60.0   3448\n",
       "60.0   3448\n",
       "60.0   3448\n",
       "60.0   3448\n",
       "60.0   3448\n",
       "60.0   3448\n",
       "60.0   3448\n",
       "60.0   3448\n",
       "60.0   3448\n",
       "60.0   3448\n",
       "60.0   3448\n",
       "60.0   3448\n",
       "60.0   3448\n",
       "60.0   3448\n",
       "60.0   3448\n",
       "60.0   3448\n",
       "60.0   3448\n",
       "60.0   3448\n",
       "60.0   3448\n",
       "60.0   3448\n",
       "60.0   3448\n",
       "60.0   3448\n",
       "60.0   3448\n",
       "60.0   3448\n",
       "\n",
       "[8699037 rows x 1 columns]"
      ]
     },
     "execution_count": 27,
     "metadata": {},
     "output_type": "execute_result"
    }
   ],
   "source": [
    "dis"
   ]
  },
  {
   "cell_type": "code",
   "execution_count": null,
   "metadata": {},
   "outputs": [],
   "source": [
    "dis.plot.bar()"
   ]
  }
 ],
 "metadata": {
  "kernelspec": {
   "display_name": "Python 3",
   "language": "python",
   "name": "python3"
  },
  "language_info": {
   "codemirror_mode": {
    "name": "ipython",
    "version": 3
   },
   "file_extension": ".py",
   "mimetype": "text/x-python",
   "name": "python",
   "nbconvert_exporter": "python",
   "pygments_lexer": "ipython3",
   "version": "3.6.5"
  }
 },
 "nbformat": 4,
 "nbformat_minor": 2
}
